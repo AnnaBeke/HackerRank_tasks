{
  "nbformat": 4,
  "nbformat_minor": 0,
  "metadata": {
    "colab": {
      "name": "HackerRank_Python_tasks.ipynb",
      "provenance": [],
      "collapsed_sections": [],
      "authorship_tag": "ABX9TyOgwyJ+JpWhieNL02lO3tAI",
      "include_colab_link": true
    },
    "kernelspec": {
      "name": "python3",
      "display_name": "Python 3"
    },
    "language_info": {
      "name": "python"
    }
  },
  "cells": [
    {
      "cell_type": "markdown",
      "metadata": {
        "id": "view-in-github",
        "colab_type": "text"
      },
      "source": [
        "<a href=\"https://colab.research.google.com/github/AnnaBeke/HackerRank_tasks/blob/main/HackerRank_Python_tasks.ipynb\" target=\"_parent\"><img src=\"https://colab.research.google.com/assets/colab-badge.svg\" alt=\"Open In Colab\"/></a>"
      ]
    },
    {
      "cell_type": "markdown",
      "metadata": {
        "id": "vZQS2pPELEUr"
      },
      "source": [
        "#Say \"Hello, World!\" With Python\n"
      ]
    },
    {
      "cell_type": "code",
      "metadata": {
        "colab": {
          "base_uri": "https://localhost:8080/"
        },
        "id": "8paY7TxTLG3z",
        "outputId": "adb05be4-d6d3-4c64-97a3-a0546f3d3e75"
      },
      "source": [
        "print(\"Hello, World!\")\n",
        "\n",
        "my_string = 'Hello, World!'\n",
        "print(my_string)"
      ],
      "execution_count": 1,
      "outputs": [
        {
          "output_type": "stream",
          "text": [
            "Hello, World!\n",
            "Hello, World!\n"
          ],
          "name": "stdout"
        }
      ]
    },
    {
      "cell_type": "code",
      "metadata": {
        "id": "SZMrZgTPOMu8"
      },
      "source": [
        ""
      ],
      "execution_count": null,
      "outputs": []
    },
    {
      "cell_type": "markdown",
      "metadata": {
        "id": "dirwUZ1trNNi"
      },
      "source": [
        "#Arithmetic Operators"
      ]
    },
    {
      "cell_type": "code",
      "metadata": {
        "colab": {
          "base_uri": "https://localhost:8080/"
        },
        "id": "Qfe2v-5trRNN",
        "outputId": "bacd550b-98d9-4e69-b03e-171f7a68d5f7"
      },
      "source": [
        "a = int(input())\n",
        "b = int(input())\n",
        "    \n",
        "print(a+b)\n",
        "print(a-b)\n",
        "print(a*b)"
      ],
      "execution_count": 2,
      "outputs": [
        {
          "output_type": "stream",
          "text": [
            "3\n",
            "5\n",
            "8\n",
            "-2\n",
            "15\n"
          ],
          "name": "stdout"
        }
      ]
    },
    {
      "cell_type": "markdown",
      "metadata": {
        "id": "zJao9_XqrfkA"
      },
      "source": [
        "#Python If-Else\n",
        "\n"
      ]
    },
    {
      "cell_type": "code",
      "metadata": {
        "colab": {
          "base_uri": "https://localhost:8080/"
        },
        "id": "PxK-G4HEr_Dy",
        "outputId": "add24513-c652-456a-b8d6-2594a0ef351e"
      },
      "source": [
        "n = int(input().strip())\n",
        "\n",
        "\n",
        "\n",
        "if n%2:\n",
        "  print('Weird')\n",
        "\n",
        "if n%2==0 and n in range(2,6):\n",
        "  print('Not Weird')\n",
        "\n",
        "if n%2==0 and n in range(6,21):\n",
        "  print('Weird')\n",
        "  \n",
        "if n%2==0 and n>20:\n",
        "  print('Not Weird')"
      ],
      "execution_count": 3,
      "outputs": [
        {
          "output_type": "stream",
          "text": [
            "3\n",
            "Weird\n"
          ],
          "name": "stdout"
        }
      ]
    },
    {
      "cell_type": "markdown",
      "metadata": {
        "id": "4bYQNUOttSTk"
      },
      "source": [
        "#Python: Division\n"
      ]
    },
    {
      "cell_type": "code",
      "metadata": {
        "id": "wx8AF-extSm6"
      },
      "source": [
        "a = int(input())\n",
        "b = int(input())\n",
        "    \n",
        "print(a//b)\n",
        "print(a/b)"
      ],
      "execution_count": null,
      "outputs": []
    },
    {
      "cell_type": "markdown",
      "metadata": {
        "id": "7iojTaPPta0P"
      },
      "source": [
        "#Loops"
      ]
    },
    {
      "cell_type": "code",
      "metadata": {
        "colab": {
          "base_uri": "https://localhost:8080/"
        },
        "id": "GR-Auh-dv_1I",
        "outputId": "e4d29720-a182-4a2f-bf66-c5622bd61e32"
      },
      "source": [
        "n = int(input())\n",
        "\n",
        "for i in range(0,n):\n",
        "  print(i*i)"
      ],
      "execution_count": 4,
      "outputs": [
        {
          "output_type": "stream",
          "text": [
            "5\n",
            "0\n",
            "1\n",
            "4\n",
            "9\n",
            "16\n"
          ],
          "name": "stdout"
        }
      ]
    }
  ]
}